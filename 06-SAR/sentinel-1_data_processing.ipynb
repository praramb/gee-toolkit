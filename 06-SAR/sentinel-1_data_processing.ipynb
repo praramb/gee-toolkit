{
 "cells": [
  {
   "cell_type": "code",
   "execution_count": null,
   "id": "bb511702-bda6-49c3-9af8-ccbde1eadb6a",
   "metadata": {},
   "outputs": [],
   "source": []
  },
  {
   "cell_type": "code",
   "execution_count": null,
   "id": "71f5610b-3298-49df-ba98-3104c9050f1c",
   "metadata": {},
   "outputs": [],
   "source": []
  },
  {
   "cell_type": "code",
   "execution_count": null,
   "id": "4bb90c05-6e13-46c7-ae68-73176c743021",
   "metadata": {},
   "outputs": [],
   "source": []
  },
  {
   "cell_type": "code",
   "execution_count": null,
   "id": "f2d87b9e-42ad-4700-b7c9-c75404dece24",
   "metadata": {},
   "outputs": [],
   "source": []
  },
  {
   "cell_type": "code",
   "execution_count": 31,
   "id": "7c4ff790-9368-4afc-bdc7-5075d9844681",
   "metadata": {},
   "outputs": [
    {
     "data": {
      "text/html": [
       "\n",
       "            <style>\n",
       "                .geemap-dark {\n",
       "                    --jp-widgets-color: white;\n",
       "                    --jp-widgets-label-color: white;\n",
       "                    --jp-ui-font-color1: white;\n",
       "                    --jp-layout-color2: #454545;\n",
       "                    background-color: #383838;\n",
       "                }\n",
       "\n",
       "                .geemap-dark .jupyter-button {\n",
       "                    --jp-layout-color3: #383838;\n",
       "                }\n",
       "\n",
       "                .geemap-colab {\n",
       "                    background-color: var(--colab-primary-surface-color, white);\n",
       "                }\n",
       "\n",
       "                .geemap-colab .jupyter-button {\n",
       "                    --jp-layout-color3: var(--colab-primary-surface-color, white);\n",
       "                }\n",
       "            </style>\n",
       "            "
      ],
      "text/plain": [
       "<IPython.core.display.HTML object>"
      ]
     },
     "metadata": {},
     "output_type": "display_data"
    },
    {
     "name": "stdout",
     "output_type": "stream",
     "text": [
      "Downloading https://github.com/gee-community/geemap/archive/master.zip ...\n",
      "Unzipping geemap-master.zip ...\n",
      "Data downloaded to: C:\\Users\\naveenr\\Downloads\\geemap-master\n",
      "\n",
      "Please comment out 'geemap.update_package()' and restart the kernel to take effect:\n",
      "Jupyter menu -> Kernel -> Restart & Clear Output\n"
     ]
    }
   ],
   "source": [
    "# Import the main libraries\n",
    "import ee\n",
    "import geemap\n",
    "import pandas as pd\n",
    "import matplotlib.pyplot as plt\n",
    "from geemap import ee_to_pandas\n"
   ]
  },
  {
   "cell_type": "code",
   "execution_count": null,
   "id": "6cb5e93d-6e11-448b-a389-7fcc26836665",
   "metadata": {},
   "outputs": [],
   "source": []
  },
  {
   "cell_type": "code",
   "execution_count": 32,
   "id": "f12382e1-d0c0-4171-b755-b3632ffaab84",
   "metadata": {},
   "outputs": [
    {
     "data": {
      "text/html": [
       "\n",
       "            <style>\n",
       "                .geemap-dark {\n",
       "                    --jp-widgets-color: white;\n",
       "                    --jp-widgets-label-color: white;\n",
       "                    --jp-ui-font-color1: white;\n",
       "                    --jp-layout-color2: #454545;\n",
       "                    background-color: #383838;\n",
       "                }\n",
       "\n",
       "                .geemap-dark .jupyter-button {\n",
       "                    --jp-layout-color3: #383838;\n",
       "                }\n",
       "\n",
       "                .geemap-colab {\n",
       "                    background-color: var(--colab-primary-surface-color, white);\n",
       "                }\n",
       "\n",
       "                .geemap-colab .jupyter-button {\n",
       "                    --jp-layout-color3: var(--colab-primary-surface-color, white);\n",
       "                }\n",
       "            </style>\n",
       "            "
      ],
      "text/plain": [
       "<IPython.core.display.HTML object>"
      ]
     },
     "metadata": {},
     "output_type": "display_data"
    },
    {
     "name": "stdout",
     "output_type": "stream",
     "text": [
      "Libraries imported and GEE initialized successfully!\n"
     ]
    }
   ],
   "source": [
    "# Authenticate and initialize the Earth Engine API\n",
    "# This may require you to sign in to your Google account the first time\n",
    "try:\n",
    "    ee.Initialize()\n",
    "except Exception as e:\n",
    "    ee.Authenticate()\n",
    "    ee.Initialize()\n",
    "\n",
    "    \n",
    "print('Libraries imported and GEE initialized successfully!')"
   ]
  },
  {
   "cell_type": "code",
   "execution_count": null,
   "id": "ce1853e5-35b4-4808-a432-28b5ff67653d",
   "metadata": {},
   "outputs": [],
   "source": []
  },
  {
   "cell_type": "code",
   "execution_count": null,
   "id": "4ada696e-c903-4323-9a5e-0025df2a9b8b",
   "metadata": {},
   "outputs": [],
   "source": []
  },
  {
   "cell_type": "code",
   "execution_count": 33,
   "id": "bfe85609-fe32-498b-b078-d15ba3f941f1",
   "metadata": {},
   "outputs": [
    {
     "data": {
      "text/html": [
       "\n",
       "            <style>\n",
       "                .geemap-dark {\n",
       "                    --jp-widgets-color: white;\n",
       "                    --jp-widgets-label-color: white;\n",
       "                    --jp-ui-font-color1: white;\n",
       "                    --jp-layout-color2: #454545;\n",
       "                    background-color: #383838;\n",
       "                }\n",
       "\n",
       "                .geemap-dark .jupyter-button {\n",
       "                    --jp-layout-color3: #383838;\n",
       "                }\n",
       "\n",
       "                .geemap-colab {\n",
       "                    background-color: var(--colab-primary-surface-color, white);\n",
       "                }\n",
       "\n",
       "                .geemap-colab .jupyter-button {\n",
       "                    --jp-layout-color3: var(--colab-primary-surface-color, white);\n",
       "                }\n",
       "            </style>\n",
       "            "
      ],
      "text/plain": [
       "<IPython.core.display.HTML object>"
      ]
     },
     "metadata": {},
     "output_type": "display_data"
    }
   ],
   "source": [
    "### Define the Region of Interest (ROI)"
   ]
  },
  {
   "cell_type": "code",
   "execution_count": null,
   "id": "1a8c38c8-0724-4cda-9d21-2b97fe7e7b9d",
   "metadata": {},
   "outputs": [],
   "source": []
  },
  {
   "cell_type": "code",
   "execution_count": 34,
   "id": "99135817-2e94-4b8e-a616-105daa6746b4",
   "metadata": {},
   "outputs": [
    {
     "data": {
      "text/html": [
       "\n",
       "            <style>\n",
       "                .geemap-dark {\n",
       "                    --jp-widgets-color: white;\n",
       "                    --jp-widgets-label-color: white;\n",
       "                    --jp-ui-font-color1: white;\n",
       "                    --jp-layout-color2: #454545;\n",
       "                    background-color: #383838;\n",
       "                }\n",
       "\n",
       "                .geemap-dark .jupyter-button {\n",
       "                    --jp-layout-color3: #383838;\n",
       "                }\n",
       "\n",
       "                .geemap-colab {\n",
       "                    background-color: var(--colab-primary-surface-color, white);\n",
       "                }\n",
       "\n",
       "                .geemap-colab .jupyter-button {\n",
       "                    --jp-layout-color3: var(--colab-primary-surface-color, white);\n",
       "                }\n",
       "            </style>\n",
       "            "
      ],
      "text/plain": [
       "<IPython.core.display.HTML object>"
      ]
     },
     "metadata": {},
     "output_type": "display_data"
    },
    {
     "data": {
      "application/vnd.jupyter.widget-view+json": {
       "model_id": "eed88af8352d4878b3160c2b670fd8d6",
       "version_major": 2,
       "version_minor": 0
      },
      "text/plain": [
       "Map(center=[16.35, 80.85], controls=(WidgetControl(options=['position', 'transparent_bg'], widget=SearchDataGU…"
      ]
     },
     "execution_count": 34,
     "metadata": {},
     "output_type": "execute_result"
    }
   ],
   "source": [
    "# Define the coordinates for the Krishna River Delta\n",
    "aoi_geometry = ee.Geometry.Point(80.85, 16.35)\n",
    "\n",
    "# Create a square bounding box around the point (80km x 80km)\n",
    "aoi = aoi_geometry.buffer(40000).bounds()\n",
    "\n",
    "# Create an interactive map centered on our AOI\n",
    "Map = geemap.Map(center=[16.35, 80.85], zoom=9)\n",
    "Map.addLayer(aoi, {'color': 'red', 'fillColor': '00000000'}, 'Area of Interest: Krishna Delta')\n",
    "Map"
   ]
  },
  {
   "cell_type": "code",
   "execution_count": null,
   "id": "90cb1dd2-475d-4317-ad07-4771efd6fda2",
   "metadata": {},
   "outputs": [],
   "source": []
  },
  {
   "cell_type": "code",
   "execution_count": null,
   "id": "f2fb30d1-2066-4886-907f-48981675d491",
   "metadata": {},
   "outputs": [],
   "source": []
  },
  {
   "cell_type": "code",
   "execution_count": null,
   "id": "69693f17-cc5c-4a7b-bb69-d8e2b9238031",
   "metadata": {},
   "outputs": [],
   "source": []
  },
  {
   "cell_type": "code",
   "execution_count": null,
   "id": "3ad476b8-380d-41b3-a8f9-80d683dfc0d5",
   "metadata": {},
   "outputs": [],
   "source": []
  },
  {
   "cell_type": "markdown",
   "id": "8e8cb03f-0c6a-46ac-a4f1-7db1888d8940",
   "metadata": {},
   "source": [
    "# Filter and Extract Sentinel-1 collection"
   ]
  },
  {
   "cell_type": "code",
   "execution_count": 35,
   "id": "15ecbdd5-7f4c-45e8-87b2-f531fa560947",
   "metadata": {},
   "outputs": [
    {
     "data": {
      "text/html": [
       "\n",
       "            <style>\n",
       "                .geemap-dark {\n",
       "                    --jp-widgets-color: white;\n",
       "                    --jp-widgets-label-color: white;\n",
       "                    --jp-ui-font-color1: white;\n",
       "                    --jp-layout-color2: #454545;\n",
       "                    background-color: #383838;\n",
       "                }\n",
       "\n",
       "                .geemap-dark .jupyter-button {\n",
       "                    --jp-layout-color3: #383838;\n",
       "                }\n",
       "\n",
       "                .geemap-colab {\n",
       "                    background-color: var(--colab-primary-surface-color, white);\n",
       "                }\n",
       "\n",
       "                .geemap-colab .jupyter-button {\n",
       "                    --jp-layout-color3: var(--colab-primary-surface-color, white);\n",
       "                }\n",
       "            </style>\n",
       "            "
      ],
      "text/plain": [
       "<IPython.core.display.HTML object>"
      ]
     },
     "metadata": {},
     "output_type": "display_data"
    },
    {
     "name": "stdout",
     "output_type": "stream",
     "text": [
      "Found 46 images in the collection.\n"
     ]
    }
   ],
   "source": [
    "# Filter the Sentinel-1 GRD Image Collection for the monsoon season\n",
    "s1_collection = (\n",
    "    ee.ImageCollection('COPERNICUS/S1_GRD')\n",
    "    .filterBounds(aoi)\n",
    "    .filterDate('2024-05-01', '2024-11-30')\n",
    "    .filter(ee.Filter.listContains('transmitterReceiverPolarisation', 'VV'))\n",
    "    .filter(ee.Filter.listContains('transmitterReceiverPolarisation', 'VH'))\n",
    "    .filter(ee.Filter.eq('instrumentMode', 'IW'))\n",
    "    .filter(ee.Filter.eq('orbitProperties_pass', 'DESCENDING'))\n",
    ")\n",
    "\n",
    "# Print the number of images found\n",
    "image_count = s1_collection.size().getInfo()\n",
    "print(f'Found {image_count} images in the collection.')"
   ]
  },
  {
   "cell_type": "code",
   "execution_count": null,
   "id": "c75b057f-6a09-4719-93cf-1e946e90048b",
   "metadata": {},
   "outputs": [],
   "source": []
  },
  {
   "cell_type": "code",
   "execution_count": null,
   "id": "7aafdc59-7e9c-4635-8f5f-522cfc9841c8",
   "metadata": {},
   "outputs": [],
   "source": []
  },
  {
   "cell_type": "code",
   "execution_count": 36,
   "id": "1be1601f-41b3-4486-851b-d929efcef701",
   "metadata": {},
   "outputs": [
    {
     "data": {
      "text/html": [
       "\n",
       "            <style>\n",
       "                .geemap-dark {\n",
       "                    --jp-widgets-color: white;\n",
       "                    --jp-widgets-label-color: white;\n",
       "                    --jp-ui-font-color1: white;\n",
       "                    --jp-layout-color2: #454545;\n",
       "                    background-color: #383838;\n",
       "                }\n",
       "\n",
       "                .geemap-dark .jupyter-button {\n",
       "                    --jp-layout-color3: #383838;\n",
       "                }\n",
       "\n",
       "                .geemap-colab {\n",
       "                    background-color: var(--colab-primary-surface-color, white);\n",
       "                }\n",
       "\n",
       "                .geemap-colab .jupyter-button {\n",
       "                    --jp-layout-color3: var(--colab-primary-surface-color, white);\n",
       "                }\n",
       "            </style>\n",
       "            "
      ],
      "text/plain": [
       "<IPython.core.display.HTML object>"
      ]
     },
     "metadata": {},
     "output_type": "display_data"
    }
   ],
   "source": [
    "# Create a Median Composite"
   ]
  },
  {
   "cell_type": "code",
   "execution_count": null,
   "id": "248cbf56-46d3-4daf-af1b-cb78e1e8a52c",
   "metadata": {},
   "outputs": [],
   "source": []
  },
  {
   "cell_type": "code",
   "execution_count": 37,
   "id": "1fbb2547-7b2a-4f6a-8634-dfcbec0fece4",
   "metadata": {},
   "outputs": [
    {
     "data": {
      "text/html": [
       "\n",
       "            <style>\n",
       "                .geemap-dark {\n",
       "                    --jp-widgets-color: white;\n",
       "                    --jp-widgets-label-color: white;\n",
       "                    --jp-ui-font-color1: white;\n",
       "                    --jp-layout-color2: #454545;\n",
       "                    background-color: #383838;\n",
       "                }\n",
       "\n",
       "                .geemap-dark .jupyter-button {\n",
       "                    --jp-layout-color3: #383838;\n",
       "                }\n",
       "\n",
       "                .geemap-colab {\n",
       "                    background-color: var(--colab-primary-surface-color, white);\n",
       "                }\n",
       "\n",
       "                .geemap-colab .jupyter-button {\n",
       "                    --jp-layout-color3: var(--colab-primary-surface-color, white);\n",
       "                }\n",
       "            </style>\n",
       "            "
      ],
      "text/plain": [
       "<IPython.core.display.HTML object>"
      ]
     },
     "metadata": {},
     "output_type": "display_data"
    },
    {
     "data": {
      "application/vnd.jupyter.widget-view+json": {
       "model_id": "eed88af8352d4878b3160c2b670fd8d6",
       "version_major": 2,
       "version_minor": 0
      },
      "text/plain": [
       "Map(center=[16.35, 80.85], controls=(WidgetControl(options=['position', 'transparent_bg'], widget=SearchDataGU…"
      ]
     },
     "execution_count": 37,
     "metadata": {},
     "output_type": "execute_result"
    }
   ],
   "source": [
    "# Create a median composite from the collection\n",
    "s1_composite = s1_collection.median().clip(aoi)\n",
    "\n",
    "# Define visualization parameters for single-band SAR data\n",
    "vis_params = {'min': -25, 'max': 0}\n",
    "\n",
    "# Add the VV and VH bands to the map to compare them\n",
    "Map.addLayer(s1_composite.select('VV'), vis_params, 'VV Polarization')\n",
    "Map.addLayer(s1_composite.select('VH'), vis_params, 'VH Polarization')\n",
    "Map"
   ]
  },
  {
   "cell_type": "code",
   "execution_count": null,
   "id": "24b5807d-a3f9-4eab-89e0-1ac89ce787b5",
   "metadata": {},
   "outputs": [],
   "source": []
  },
  {
   "cell_type": "code",
   "execution_count": 38,
   "id": "c664b8fb-4aa6-4d83-ae25-d1323dd8c041",
   "metadata": {},
   "outputs": [
    {
     "data": {
      "text/html": [
       "\n",
       "            <style>\n",
       "                .geemap-dark {\n",
       "                    --jp-widgets-color: white;\n",
       "                    --jp-widgets-label-color: white;\n",
       "                    --jp-ui-font-color1: white;\n",
       "                    --jp-layout-color2: #454545;\n",
       "                    background-color: #383838;\n",
       "                }\n",
       "\n",
       "                .geemap-dark .jupyter-button {\n",
       "                    --jp-layout-color3: #383838;\n",
       "                }\n",
       "\n",
       "                .geemap-colab {\n",
       "                    background-color: var(--colab-primary-surface-color, white);\n",
       "                }\n",
       "\n",
       "                .geemap-colab .jupyter-button {\n",
       "                    --jp-layout-color3: var(--colab-primary-surface-color, white);\n",
       "                }\n",
       "            </style>\n",
       "            "
      ],
      "text/plain": [
       "<IPython.core.display.HTML object>"
      ]
     },
     "metadata": {},
     "output_type": "display_data"
    }
   ],
   "source": [
    " ### Apply a Speckle Filter"
   ]
  },
  {
   "cell_type": "code",
   "execution_count": 39,
   "id": "e8139859-05c6-47b2-b539-bee5a04c862a",
   "metadata": {},
   "outputs": [
    {
     "data": {
      "text/html": [
       "\n",
       "            <style>\n",
       "                .geemap-dark {\n",
       "                    --jp-widgets-color: white;\n",
       "                    --jp-widgets-label-color: white;\n",
       "                    --jp-ui-font-color1: white;\n",
       "                    --jp-layout-color2: #454545;\n",
       "                    background-color: #383838;\n",
       "                }\n",
       "\n",
       "                .geemap-dark .jupyter-button {\n",
       "                    --jp-layout-color3: #383838;\n",
       "                }\n",
       "\n",
       "                .geemap-colab {\n",
       "                    background-color: var(--colab-primary-surface-color, white);\n",
       "                }\n",
       "\n",
       "                .geemap-colab .jupyter-button {\n",
       "                    --jp-layout-color3: var(--colab-primary-surface-color, white);\n",
       "                }\n",
       "            </style>\n",
       "            "
      ],
      "text/plain": [
       "<IPython.core.display.HTML object>"
      ]
     },
     "metadata": {},
     "output_type": "display_data"
    },
    {
     "data": {
      "application/vnd.jupyter.widget-view+json": {
       "model_id": "f3ccfddebc2e45ffbb39c4ae100f4f15",
       "version_major": 2,
       "version_minor": 0
      },
      "text/plain": [
       "Map(center=[16.35, 80.85], controls=(ZoomControl(options=['position', 'zoom_in_text', 'zoom_in_title', 'zoom_o…"
      ]
     },
     "execution_count": 39,
     "metadata": {},
     "output_type": "execute_result"
    }
   ],
   "source": [
    "# Apply a focal median filter to reduce speckle\n",
    "s1_filtered = s1_composite.focal_median(radius=50, units='meters')\n",
    "\n",
    "# Create a split-panel map to compare the original vs. filtered image\n",
    "left_layer = geemap.ee_tile_layer(s1_composite.select('VV'), vis_params, 'Original')\n",
    "right_layer = geemap.ee_tile_layer(s1_filtered.select('VV'), vis_params, 'Speckle Filtered')\n",
    "\n",
    "split_map = geemap.Map(center=[16.35, 80.85], zoom=10)\n",
    "split_map.split_map(left_layer, right_layer)\n",
    "split_map"
   ]
  },
  {
   "cell_type": "code",
   "execution_count": null,
   "id": "4392b459-bc4f-43d4-b794-bffb7faaf1b5",
   "metadata": {},
   "outputs": [],
   "source": []
  },
  {
   "cell_type": "code",
   "execution_count": null,
   "id": "c8ee6cc7-bea0-41f8-b25c-92203a548621",
   "metadata": {},
   "outputs": [],
   "source": []
  },
  {
   "cell_type": "code",
   "execution_count": 40,
   "id": "dc07b4bc-350b-46dc-8fc9-09d91cc0b3f2",
   "metadata": {},
   "outputs": [
    {
     "data": {
      "text/html": [
       "\n",
       "            <style>\n",
       "                .geemap-dark {\n",
       "                    --jp-widgets-color: white;\n",
       "                    --jp-widgets-label-color: white;\n",
       "                    --jp-ui-font-color1: white;\n",
       "                    --jp-layout-color2: #454545;\n",
       "                    background-color: #383838;\n",
       "                }\n",
       "\n",
       "                .geemap-dark .jupyter-button {\n",
       "                    --jp-layout-color3: #383838;\n",
       "                }\n",
       "\n",
       "                .geemap-colab {\n",
       "                    background-color: var(--colab-primary-surface-color, white);\n",
       "                }\n",
       "\n",
       "                .geemap-colab .jupyter-button {\n",
       "                    --jp-layout-color3: var(--colab-primary-surface-color, white);\n",
       "                }\n",
       "            </style>\n",
       "            "
      ],
      "text/plain": [
       "<IPython.core.display.HTML object>"
      ]
     },
     "metadata": {},
     "output_type": "display_data"
    }
   ],
   "source": [
    "# Create an RGB Color Composite"
   ]
  },
  {
   "cell_type": "code",
   "execution_count": 41,
   "id": "9dc0cf4c-ac8c-4889-9729-af73a83c7b36",
   "metadata": {},
   "outputs": [
    {
     "data": {
      "text/html": [
       "\n",
       "            <style>\n",
       "                .geemap-dark {\n",
       "                    --jp-widgets-color: white;\n",
       "                    --jp-widgets-label-color: white;\n",
       "                    --jp-ui-font-color1: white;\n",
       "                    --jp-layout-color2: #454545;\n",
       "                    background-color: #383838;\n",
       "                }\n",
       "\n",
       "                .geemap-dark .jupyter-button {\n",
       "                    --jp-layout-color3: #383838;\n",
       "                }\n",
       "\n",
       "                .geemap-colab {\n",
       "                    background-color: var(--colab-primary-surface-color, white);\n",
       "                }\n",
       "\n",
       "                .geemap-colab .jupyter-button {\n",
       "                    --jp-layout-color3: var(--colab-primary-surface-color, white);\n",
       "                }\n",
       "            </style>\n",
       "            "
      ],
      "text/plain": [
       "<IPython.core.display.HTML object>"
      ]
     },
     "metadata": {},
     "output_type": "display_data"
    },
    {
     "data": {
      "application/vnd.jupyter.widget-view+json": {
       "model_id": "eed88af8352d4878b3160c2b670fd8d6",
       "version_major": 2,
       "version_minor": 0
      },
      "text/plain": [
       "Map(center=[16.35, 80.85], controls=(WidgetControl(options=['position', 'transparent_bg'], widget=SearchDataGU…"
      ]
     },
     "execution_count": 41,
     "metadata": {},
     "output_type": "execute_result"
    }
   ],
   "source": [
    "# Create the VV/VH ratio band\n",
    "vv_vh_ratio = s1_filtered.select('VV').divide(s1_filtered.select('VH')).rename('VV_VH_Ratio')\n",
    "\n",
    "# Add the ratio band to our filtered image\n",
    "s1_rgb = s1_filtered.addBands(vv_vh_ratio)\n",
    "\n",
    "# Define RGB visualization parameters\n",
    "rgb_vis_params = {'min': [-20, -25, 1], 'max': [0, -10, 15], 'bands': ['VV', 'VH', 'VV_VH_Ratio']}\n",
    "\n",
    "# Add the final RGB composite to the map\n",
    "Map.addLayer(s1_rgb, rgb_vis_params, 'RGB Composite')\n",
    "Map"
   ]
  },
  {
   "cell_type": "code",
   "execution_count": null,
   "id": "483e2067-b823-4230-b30b-2bba74b8d959",
   "metadata": {},
   "outputs": [],
   "source": []
  },
  {
   "cell_type": "code",
   "execution_count": null,
   "id": "a79a8edf-24fd-4c89-b98d-57dd6bbc1c58",
   "metadata": {},
   "outputs": [],
   "source": []
  },
  {
   "cell_type": "code",
   "execution_count": 42,
   "id": "98635239-6458-45fa-965a-4b529a8b19ec",
   "metadata": {},
   "outputs": [
    {
     "data": {
      "text/html": [
       "\n",
       "            <style>\n",
       "                .geemap-dark {\n",
       "                    --jp-widgets-color: white;\n",
       "                    --jp-widgets-label-color: white;\n",
       "                    --jp-ui-font-color1: white;\n",
       "                    --jp-layout-color2: #454545;\n",
       "                    background-color: #383838;\n",
       "                }\n",
       "\n",
       "                .geemap-dark .jupyter-button {\n",
       "                    --jp-layout-color3: #383838;\n",
       "                }\n",
       "\n",
       "                .geemap-colab {\n",
       "                    background-color: var(--colab-primary-surface-color, white);\n",
       "                }\n",
       "\n",
       "                .geemap-colab .jupyter-button {\n",
       "                    --jp-layout-color3: var(--colab-primary-surface-color, white);\n",
       "                }\n",
       "            </style>\n",
       "            "
      ],
      "text/plain": [
       "<IPython.core.display.HTML object>"
      ]
     },
     "metadata": {},
     "output_type": "display_data"
    }
   ],
   "source": [
    "## Generate a Time-Series Chart for a Rice Paddy"
   ]
  },
  {
   "cell_type": "code",
   "execution_count": 50,
   "id": "0843c357-c3d8-4083-a15f-173b5431b896",
   "metadata": {},
   "outputs": [
    {
     "data": {
      "text/html": [
       "\n",
       "            <style>\n",
       "                .geemap-dark {\n",
       "                    --jp-widgets-color: white;\n",
       "                    --jp-widgets-label-color: white;\n",
       "                    --jp-ui-font-color1: white;\n",
       "                    --jp-layout-color2: #454545;\n",
       "                    background-color: #383838;\n",
       "                }\n",
       "\n",
       "                .geemap-dark .jupyter-button {\n",
       "                    --jp-layout-color3: #383838;\n",
       "                }\n",
       "\n",
       "                .geemap-colab {\n",
       "                    background-color: var(--colab-primary-surface-color, white);\n",
       "                }\n",
       "\n",
       "                .geemap-colab .jupyter-button {\n",
       "                    --jp-layout-color3: var(--colab-primary-surface-color, white);\n",
       "                }\n",
       "            </style>\n",
       "            "
      ],
      "text/plain": [
       "<IPython.core.display.HTML object>"
      ]
     },
     "metadata": {},
     "output_type": "display_data"
    },
    {
     "name": "stdout",
     "output_type": "stream",
     "text": [
      "[['id', 'longitude', 'latitude', 'time', 'VV', 'VH', 'angle'], ['S1A_IW_GRDH_1SDV_20240516T003109_20240516T003134_053889_068CBA_2EA8', 80.70001880158459, 16.399958237235428, 1715819469000, -14.093380891643605, -21.1766422578248, 35.6246223449707], ['S1A_IW_GRDH_1SDV_20240528T003109_20240528T003134_054064_0692D2_784E', 80.70001880158459, 16.399958237235428, 1716856269000, -11.807660736538903, -18.650654468659585, 35.611873626708984], ['S1A_IW_GRDH_1SDV_20240609T003109_20240609T003134_054239_0698E0_32A2', 80.70001880158459, 16.399958237235428, 1717893069000, -15.75120165512914, -22.639941849620584, 35.61698532104492], ['S1A_IW_GRDH_1SDV_20240621T003108_20240621T003133_054414_069EEC_2567', 80.70001880158459, 16.399958237235428, 1718929868000, -12.330360858295482, -15.378496197473064, 35.611663818359375], ['S1A_IW_GRDH_1SDV_20240703T003107_20240703T003132_054589_06A503_EEB2', 80.70001880158459, 16.399958237235428, 1719966667000, -10.336843008273721, -14.973016657697894, 35.62510299682617], ['S1A_IW_GRDH_1SDV_20240715T003107_20240715T003132_054764_06AB10_7219', 80.70001880158459, 16.399958237235428, 1721003467000, -10.500447889600235, -13.2345277839608, 35.61625289916992], ['S1A_IW_GRDH_1SDV_20240727T003106_20240727T003131_054939_06B127_57D4', 80.70001880158459, 16.399958237235428, 1722040266000, -12.702986688711624, -15.981434194617703, 35.633819580078125], ['S1A_IW_GRDH_1SDV_20240820T003107_20240820T003132_055289_06BD9B_BF62', 80.70001880158459, 16.399958237235428, 1724113867000, -10.423684876028075, -15.406921292203954, 35.61698913574219], ['S1A_IW_GRDH_1SDV_20240901T003107_20240901T003132_055464_06C415_85AB', 80.70001880158459, 16.399958237235428, 1725150667000, -14.66475942035813, -19.72169831868886, 35.624568939208984], ['S1A_IW_GRDH_1SDV_20240913T003108_20240913T003133_055639_06CB01_DB98', 80.70001880158459, 16.399958237235428, 1726187468000, -14.98361443731187, -19.97267783482219, 35.61919021606445], ['S1A_IW_GRDH_1SDV_20240925T003108_20240925T003133_055814_06D1EB_FE80', 80.70001880158459, 16.399958237235428, 1727224268000, -12.894824160530792, -18.490435961895493, 35.62835693359375], ['S1A_IW_GRDH_1SDV_20241007T003109_20241007T003134_055989_06D8D1_93F6', 80.70001880158459, 16.399958237235428, 1728261069000, -14.311108251407301, -21.426261954377335, 35.60903549194336], ['S1A_IW_GRDH_1SDV_20241019T003109_20241019T003134_056164_06DFBD_CB98', 80.70001880158459, 16.399958237235428, 1729297869000, -8.337006303632183, -18.782813731646748, 35.61838150024414], ['S1A_IW_GRDH_1SDV_20241031T003108_20241031T003133_056339_06E6AD_C388', 80.70001880158459, 16.399958237235428, 1730334668000, -10.439649790336409, -18.02341376735656, 35.61817169189453], ['S1A_IW_GRDH_1SDV_20241112T003108_20241112T003133_056514_06EDA5_C189', 80.70001880158459, 16.399958237235428, 1731371468000, -10.77618503590152, -26.009708002428912, 35.6247673034668], ['S1A_IW_GRDH_1SDV_20241124T003107_20241124T003132_056689_06F4A4_8624', 80.70001880158459, 16.399958237235428, 1732408267000, -10.716176684270017, -19.87309421253876, 35.62230682373047]]\n"
     ]
    },
    {
     "ename": "AttributeError",
     "evalue": "module 'geemap' has no attribute 'ee_to_pandas'",
     "output_type": "error",
     "traceback": [
      "\u001b[1;31m---------------------------------------------------------------------------\u001b[0m",
      "\u001b[1;31mAttributeError\u001b[0m                            Traceback (most recent call last)",
      "Cell \u001b[1;32mIn[50], line 8\u001b[0m\n\u001b[0;32m      6\u001b[0m \u001b[38;5;28mprint\u001b[39m(ts_data)\n\u001b[0;32m      7\u001b[0m \u001b[38;5;66;03m# Convert the data to a Pandas DataFrame\u001b[39;00m\n\u001b[1;32m----> 8\u001b[0m df \u001b[38;5;241m=\u001b[39m \u001b[43mgeemap\u001b[49m\u001b[38;5;241;43m.\u001b[39;49m\u001b[43mee_to_pandas\u001b[49m(ts_data)\n\u001b[0;32m      9\u001b[0m df[\u001b[38;5;124m'\u001b[39m\u001b[38;5;124mdatetime\u001b[39m\u001b[38;5;124m'\u001b[39m] \u001b[38;5;241m=\u001b[39m pd\u001b[38;5;241m.\u001b[39mto_datetime(df[\u001b[38;5;124m'\u001b[39m\u001b[38;5;124mtime\u001b[39m\u001b[38;5;124m'\u001b[39m], unit\u001b[38;5;241m=\u001b[39m\u001b[38;5;124m'\u001b[39m\u001b[38;5;124mms\u001b[39m\u001b[38;5;124m'\u001b[39m)\n\u001b[0;32m     11\u001b[0m \u001b[38;5;66;03m# Plot the time-series for VH polarization\u001b[39;00m\n",
      "\u001b[1;31mAttributeError\u001b[0m: module 'geemap' has no attribute 'ee_to_pandas'"
     ]
    }
   ],
   "source": [
    "# Define a point inside a known rice-growing area\n",
    "rice_paddy_point = ee.Geometry.Point(80.7, 16.4)\n",
    "\n",
    "# Get the time-series data for this point from the original collection\n",
    "ts_data = s1_collection.getRegion(rice_paddy_point, scale=10).getInfo()\n",
    "print(ts_data)\n",
    "# Convert the data to a Pandas DataFrame\n",
    "df = geemap.ee_to_pandas(ts_data)\n",
    "df['datetime'] = pd.to_datetime(df['time'], unit='ms')\n",
    "\n",
    "# Plot the time-series for VH polarization\n",
    "plt.figure(figsize=(12, 6))\n",
    "plt.plot(df['datetime'], df['VH'], marker='o', linestyle='-', color='green')\n",
    "plt.title('VH Backscatter Time-Series for a Rice Paddy in Krishna Delta')\n",
    "plt.xlabel('Date')\n",
    "plt.ylabel('VH Backscatter (dB)')\n",
    "plt.grid(True)\n",
    "plt.show()"
   ]
  },
  {
   "cell_type": "code",
   "execution_count": null,
   "id": "7f6832c8-f9a0-46c8-9592-a6ab91ba27a4",
   "metadata": {},
   "outputs": [],
   "source": [
    "!conda install -c conda-forge geemap\n",
    "\n"
   ]
  },
  {
   "cell_type": "code",
   "execution_count": null,
   "id": "daf8b909-b6ce-4c75-a161-c4385dab8063",
   "metadata": {},
   "outputs": [],
   "source": []
  },
  {
   "cell_type": "code",
   "execution_count": null,
   "id": "b4e84152-11f7-4ad0-95d4-7738772d62ad",
   "metadata": {},
   "outputs": [],
   "source": []
  }
 ],
 "metadata": {
  "kernelspec": {
   "display_name": "gee",
   "language": "python",
   "name": "gee"
  },
  "language_info": {
   "codemirror_mode": {
    "name": "ipython",
    "version": 3
   },
   "file_extension": ".py",
   "mimetype": "text/x-python",
   "name": "python",
   "nbconvert_exporter": "python",
   "pygments_lexer": "ipython3",
   "version": "3.12.11"
  }
 },
 "nbformat": 4,
 "nbformat_minor": 5
}
